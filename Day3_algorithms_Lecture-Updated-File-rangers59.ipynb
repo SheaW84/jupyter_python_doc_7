{
 "cells": [
  {
   "cell_type": "markdown",
   "metadata": {},
   "source": [
    "# Algorithms, Binary Search & Linked Lists"
   ]
  },
  {
   "cell_type": "markdown",
   "metadata": {},
   "source": [
    "## Tasks Today:\n",
    " \n",
    "1) <b>In-Place Algorithms</b> <br>\n",
    " &nbsp;&nbsp;&nbsp;&nbsp; a) Syntax <br>\n",
    " &nbsp;&nbsp;&nbsp;&nbsp; a) Out of Place Algorithm <br>\n",
    " &nbsp;&nbsp;&nbsp;&nbsp; b) In-Class Exercise #1 <br>\n",
    "2) <b>Two Pointers</b> <br>\n",
    "3) <b>Linked Lists</b> <br>\n",
    "4) <b>Merge Sort</b> <br>\n",
    " &nbsp;&nbsp;&nbsp;&nbsp; a) Video on Algorithms <br>\n",
    " &nbsp;&nbsp;&nbsp;&nbsp; b) How it Works <br>\n",
    "5) <b>Exercises</b> <br>\n",
    " &nbsp;&nbsp;&nbsp;&nbsp; a) Exercise #1 - Reverse a List in Place Using an In-Place Algorithm <br>\n",
    " &nbsp;&nbsp;&nbsp;&nbsp; b) Exercise #2 - Find Distinct Words <br>\n",
    " &nbsp;&nbsp;&nbsp;&nbsp; c) Exercise #3 - Write a program to implement a Linear Search Algorithm. <br>"
   ]
  },
  {
   "cell_type": "markdown",
   "metadata": {},
   "source": [
    "## In-Place Algorithms"
   ]
  },
  {
   "cell_type": "markdown",
   "metadata": {},
   "source": [
    "#### Syntax"
   ]
  },
  {
   "cell_type": "code",
   "execution_count": 2,
   "metadata": {},
   "outputs": [
    {
     "name": "stdout",
     "output_type": "stream",
     "text": [
      "Before swap: [20, 4, 10]\n",
      "After swap: [10, 4, 20]\n"
     ]
    }
   ],
   "source": [
    "#var[i], var[i+1] = var[i+1], var[i]\n",
    "#Sometimes known as a swap algorithm\n",
    "\n",
    "def swap(a_list, x,y,z):\n",
    "    a_list[x], a_list[y], a_list[z] = a_list[z], a_list[y], a_list[x]\n",
    "    return a_list\n",
    "\n",
    "my_list = [20, 4, 10]\n",
    "print(f'Before swap: {my_list}')\n",
    "\n",
    "#swap\n",
    "# swap(my_list, 2, 0, 1)\n",
    "swap(my_list, 0, 1, 2)\n",
    "\n",
    "print(f'After swap: {my_list}')\n"
   ]
  },
  {
   "cell_type": "markdown",
   "metadata": {},
   "source": [
    "#### Out of Place Algorithm"
   ]
  },
  {
   "cell_type": "code",
   "execution_count": 5,
   "metadata": {},
   "outputs": [
    {
     "name": "stdout",
     "output_type": "stream",
     "text": [
      "Before  ['a', 'b', 'c', 'd']\n",
      "After  ['d', 'c', 'b', 'a']\n"
     ]
    }
   ],
   "source": [
    "# Not swapping but completely reversing BUT also copies to another place in memory\n",
    "\n",
    "\n",
    "my_list_copy = my_list[::-1]\n",
    "# print(my_list_copy)\n",
    "# print(my_list)\n",
    "\n",
    "array = ['a','b', 'c','d']\n",
    "new_array = ['a'] * len(array)\n",
    "\n",
    "print(\"Before \", array)\n",
    "\n",
    "length = len(array)-1\n",
    "for i in range(length):\n",
    "    new_array[i]= array[length -i]\n",
    "    \n",
    "    \n",
    "array =  new_array\n",
    "print(\"After \", array)"
   ]
  },
  {
   "cell_type": "markdown",
   "metadata": {},
   "source": [
    "#### In-Class Exercise #1 <br>\n",
    "<p>Write a function that takes in four arguments (list, index1, index2, index3), and swaps those three positions in the list passed in.</p>"
   ]
  },
  {
   "cell_type": "code",
   "execution_count": 8,
   "metadata": {},
   "outputs": [
    {
     "name": "stdout",
     "output_type": "stream",
     "text": [
      "Original [10, 4, 3, 8, 4, 2, 6]\n",
      "After swap [10, 8, 3, 4, 4, 2, 6]\n"
     ]
    }
   ],
   "source": [
    "l_1 = [10, 4, 3, 8, 4, 2, 6]\n",
    "\n",
    "def my_swap(some_list, a, b, c):\n",
    "    some_list[a], some_list[b], some_list[c] = some_list[c], some_list[b], some_list[a]\n",
    "    return my_swap\n",
    "    \n",
    "    \n",
    "print(f'Original {l_1}')\n",
    "\n",
    "my_swap(l_1, 3, 2, 1)\n",
    "\n",
    "print(f'After swap {l_1}')"
   ]
  },
  {
   "cell_type": "markdown",
   "metadata": {},
   "source": [
    "## Two Pointers"
   ]
  },
  {
   "cell_type": "markdown",
   "metadata": {},
   "source": [
    "#### Syntax"
   ]
  },
  {
   "cell_type": "code",
   "execution_count": 9,
   "metadata": {},
   "outputs": [
    {
     "data": {
      "text/plain": [
       "[22, 11, 4, 8, 9, 12, 3, 2, 1]"
      ]
     },
     "execution_count": 9,
     "metadata": {},
     "output_type": "execute_result"
    }
   ],
   "source": [
    "#a_list [left], a_list[right] = a_list[right],alist[left]\n",
    "\n",
    "def twoPointers(alist):\n",
    "    #create the pointers\n",
    "    left = 0 \n",
    "    right = len(alist)-1\n",
    "    #set up a loop that works through our list and swaps things one pair at a time\n",
    "    while left <= right:\n",
    "        alist[left], alist[right] = alist[right], alist[left]\n",
    "        left += 1\n",
    "        right -= 1\n",
    "    return alist\n",
    "\n",
    "my_list2 = [1, 2, 3, 12, 9, 8, 4, 11, 22]\n",
    "twoPointers(my_list2)"
   ]
  },
  {
   "cell_type": "markdown",
   "metadata": {},
   "source": [
    "#### Video of Algorithms <br>\n",
    "<p>Watch the video about algorithms.</p>\n",
    "\n",
    "https://www.youtube.com/watch?v=Q9HjeFD62Uk\n",
    "\n",
    "https://www.youtube.com/watch?v=kPRA0W1kECg\n",
    "\n",
    "https://www.youtube.com/watch?v=ZZuD6iUe3Pc"
   ]
  },
  {
   "cell_type": "markdown",
   "metadata": {},
   "source": [
    "# Sorting Algorithms"
   ]
  },
  {
   "cell_type": "markdown",
   "metadata": {},
   "source": [
    "#### Bubble Sort\n",
    "\n",
    "Worst Case: O(n^2) Time - O(1) Space"
   ]
  },
  {
   "cell_type": "code",
   "execution_count": 1,
   "metadata": {},
   "outputs": [
    {
     "name": "stdout",
     "output_type": "stream",
     "text": [
      "[1, 22, 34, 44, 55, 66, 88, 100]\n"
     ]
    }
   ],
   "source": [
    "# worst case O(n^2)Time-O(1)Space\n",
    "#best case: 0(n)-linear\n",
    "def swap(i, j, array):\n",
    "  array[i], array[j] = array[j], array[i]\n",
    "\n",
    "def bubbleSort(array):\n",
    "  isSorted = False \n",
    "  while not isSorted:\n",
    "    isSorted = True\n",
    "    for num in range(len(array)-1):\n",
    "      if array [num] > array[num+1]:\n",
    "        swap(num, num+1, array)\n",
    "        isSorted = False\n",
    "\n",
    "  return array\n",
    "\n",
    "print(bubbleSort([22, 55, 88,44,1,100,34,66]))"
   ]
  },
  {
   "cell_type": "markdown",
   "metadata": {},
   "source": [
    "##### Insertion Sort\n",
    "\n",
    "Worst Case: O(n^2) time - O(1)space"
   ]
  },
  {
   "cell_type": "code",
   "execution_count": 2,
   "metadata": {},
   "outputs": [
    {
     "name": "stdout",
     "output_type": "stream",
     "text": [
      "[22, 55, 88, 44, 1, 100, 34, 66]\n"
     ]
    }
   ],
   "source": [
    "def swap(i, j, array):\n",
    "   array[i], array[j] = array[j], array[i]\n",
    "\n",
    "def insertionSort(array):\n",
    "  for i in range(1, len(array)):\n",
    "    j = i \n",
    "    while j > 0 and array[i] < array[i]:\n",
    "      swap(j, j - 1, array)\n",
    "      j -= 1\n",
    "    return array\n",
    "\n",
    "print(insertionSort([22, 55, 88, 44, 1, 100, 34, 66]))"
   ]
  },
  {
   "cell_type": "markdown",
   "metadata": {},
   "source": [
    "## Merge Sort"
   ]
  },
  {
   "cell_type": "markdown",
   "metadata": {},
   "source": [
    "#### How it Works"
   ]
  },
  {
   "cell_type": "code",
   "execution_count": 4,
   "metadata": {},
   "outputs": [
    {
     "name": "stdout",
     "output_type": "stream",
     "text": [
      "Splitting... [18, 7, 1, 20, 20]\n",
      "Splitting... [18, 7]\n",
      "Splitting... [18]\n",
      "Merging... [18]\n",
      "Splitting... [7]\n",
      "Merging... [7]\n",
      "Merging... [7, 18]\n",
      "Splitting... [1, 20, 20]\n",
      "Splitting... [1]\n",
      "Merging... [1]\n",
      "Splitting... [20, 20]\n",
      "Splitting... [20]\n",
      "Merging... [20]\n",
      "Splitting... [20]\n",
      "Merging... [20]\n",
      "Merging... [20, 20]\n",
      "Merging... [1, 20, 20]\n",
      "Merging... [1, 7, 18, 20, 20]\n",
      "[1, 7, 18, 20, 20]\n"
     ]
    }
   ],
   "source": [
    "# Step 1 : Split everything into it's own group\n",
    "# Step 2 : From left to right, merge two groupd together\n",
    "# Step 3 : While merging, place each item in the correct position within merged group\n",
    "# Step 4 : continue steps 3-4 util only one group is left.\n",
    "\n",
    "from random import randint\n",
    "# # this to generate a random list of 5 numbers from 0 to 20\n",
    "nums = [randint(0,20) for i in range(5)]\n",
    "\n",
    "#merge sort\n",
    "\n",
    "def mergeSort(alist):\n",
    "  print(\"Splitting...\", alist)\n",
    "\n",
    "  # Step 1: Divide the array into qual parts (as much as possible)\n",
    "  if len(alist) > 1:\n",
    "    mid = len(alist) // 2\n",
    "    lefthalf = alist[:mid]\n",
    "    righthalf = alist[mid:]\n",
    "\n",
    "  #recursively call mergeSort to perform splis if needed\n",
    "  # THEN merge once the splits are done\n",
    "\n",
    "    mergeSort(lefthalf)\n",
    "    mergeSort(righthalf)\n",
    "\n",
    "\n",
    "  #index pointer for our left\n",
    "    i = 0 # pointer for our left half\n",
    "    j = 0 # pointer for our right half\n",
    "    k = 0  # pointer for our main array\n",
    "\n",
    "  #Step 2: Compare lefthalf and the righthalft\n",
    "    while i  < len (lefthalf) and j < len(righthalf):\n",
    "        if lefthalf[i] < righthalf[j]:\n",
    "          alist[k] = lefthalf[i]\n",
    "          i = i + 1\n",
    "        else:\n",
    "          alist[k] = righthalf[j]\n",
    "          j = j + 1\n",
    "        k = k + 1 \n",
    "\n",
    "  #Step 3: while merging, place items in the correct positions\n",
    "    while i  < len(lefthalf):\n",
    "      alist[k] = lefthalf[i]\n",
    "      i = i + 1\n",
    "      k = k + 1\n",
    "    while j < len(righthalf):\n",
    "      alist[k] = righthalf[j] \n",
    "      j = j + 1\n",
    "      k = k + 1\n",
    "\n",
    "  print(\"Merging...\", alist)\n",
    "  return alist\n",
    "\n",
    "print(mergeSort(nums))"
   ]
  },
  {
   "cell_type": "markdown",
   "metadata": {},
   "source": [
    "# Binary Search\n",
    "\n",
    "The Binary Search algorithm works by finding the number in the middle of a given array and comparing it to the target. Given that the array is sorted\n",
    "\n",
    "* The worst case run time for this algorithm is `O(log(n))`"
   ]
  },
  {
   "cell_type": "code",
   "execution_count": 5,
   "metadata": {},
   "outputs": [
    {
     "name": "stdout",
     "output_type": "stream",
     "text": [
      "The index is...3\n"
     ]
    }
   ],
   "source": [
    "# worst case o(log(n))\n",
    "# less = left\n",
    "# greater = right\n",
    "# list of numbers Must be sorted!!!\n",
    "\n",
    "\n",
    "def binarySearchHelperFunction( array, target, left, right):\n",
    "  while left <= right:\n",
    "    middle = (left + right) // 2\n",
    "    potentialMatch = array[middle]\n",
    "    if target == potentialMatch:\n",
    "      return f'The index is...{middle}'\n",
    "    elif target < potentialMatch:\n",
    "      right = middle - 1\n",
    "    else:\n",
    "      left = middle + 1\n",
    "\n",
    "  return - 1\n",
    "\n",
    "def binarySearch(array, target):\n",
    "  return binarySearchHelperFunction(array, target, 0, len(array) -1)\n",
    "\n",
    "print(binarySearch([22, 55, 88, 44, 1, 100, 34, 66],44))"
   ]
  },
  {
   "cell_type": "markdown",
   "metadata": {},
   "source": [
    "# Exercises"
   ]
  },
  {
   "cell_type": "markdown",
   "metadata": {},
   "source": [
    "### Exercise #1 <br>\n",
    "<p>Reverse the list below in-place using an in-place algorithm.<br>For extra credit: Reverse the strings at the same time.</p>"
   ]
  },
  {
   "cell_type": "code",
   "execution_count": 25,
   "metadata": {},
   "outputs": [
    {
     "name": "stdout",
     "output_type": "stream",
     "text": [
      "['.', 'sentence', 'a', 'is', 'this']\n"
     ]
    }
   ],
   "source": [
    "words = ['this' , 'is', 'a', 'sentence', '.']\n",
    "\n",
    "def swap(wlist, a, b, c, d, e):\n",
    "    wlist[a],  wlist[b],  wlist[c],  wlist[d],  wlist[e] = wlist[e],  wlist[d],  wlist[c],  wlist[b],  wlist[a]\n",
    "    return wlist\n",
    "\n",
    "swap(words, 4, 3, 2, 1, 0)\n",
    "\n",
    "print(words)"
   ]
  },
  {
   "cell_type": "markdown",
   "metadata": {},
   "source": [
    "### Exercise #2 <br>\n",
    "<p>Create a function that counts how many distinct words are in the string below, then outputs a dictionary with the words as the key and the value as the amount of times that word appears in the string.<br>Should output:<br>{'a': 5,<br>\n",
    " 'abstract': 1,<br>\n",
    " 'an': 3,<br>\n",
    " 'array': 2, ... etc...</p>"
   ]
  },
  {
   "cell_type": "code",
   "execution_count": 27,
   "metadata": {},
   "outputs": [
    {
     "name": "stdout",
     "output_type": "stream",
     "text": [
      "{'a': 5, 'abstract': 1, 'an': 3, 'array': 2, 'associative': 1, 'be': 1, 'buckets': 1, 'can': 2, 'compute': 1, 'computing,': 1, 'data': 2, 'desired': 1, 'found': 1, 'from': 1, 'function': 1, 'hash': 4, 'implements': 1, 'in': 1, 'index': 1, 'into': 1, 'is': 1, 'keys': 1, 'map': 2, 'of': 1, 'or': 1, 'slots': 1, 'structure': 2, 'table': 2, 'that': 1, 'the': 1, 'to': 2, 'type,': 1, 'uses': 1, 'value': 1, 'values.': 1, 'which': 2}\n"
     ]
    }
   ],
   "source": [
    "a_text = 'In computing, a hash table hash map is a data structure which implements an associative array abstract data type, a structure that can map keys to values. A hash table uses a hash function to compute an index into an array of buckets or slots from which the desired value can be found'\n",
    "\n",
    "string_h = {}\n",
    "string_list =[]\n",
    "\n",
    "\n",
    "def stringToList(string):\n",
    "  string_list = string.split()\n",
    "  return string_list\n",
    "\n",
    "#test stringToList()\n",
    "my_string_list = stringToList(a_text.lower())\n",
    "# print(my_string_list)\n",
    "\n",
    "def listToDic(stringlist):\n",
    "  for i in stringlist:\n",
    "    if i in string_h:\n",
    "      string_h[i] += 1\n",
    "    else:\n",
    "      string_h[i] = 1\n",
    "  return string_h\n",
    "\n",
    "unsorted_hash = listToDic(my_string_list)\n",
    "sorted_hash = dict(sorted(unsorted_hash.items()))\n",
    "print(sorted_hash)"
   ]
  },
  {
   "cell_type": "markdown",
   "metadata": {},
   "source": [
    "## Exercise #3\n",
    "\n",
    "Write a program to implement a Linear Search Algorithm. Also in a comment, write the Time Complexity of the following algorithm.\n",
    "\n",
    "#### Hint: Linear Searching will require searching a list for a given number. "
   ]
  },
  {
   "cell_type": "code",
   "execution_count": 32,
   "metadata": {},
   "outputs": [
    {
     "name": "stdout",
     "output_type": "stream",
     "text": [
      "True\n"
     ]
    }
   ],
   "source": [
    "# Linear Search Alogrithm\n",
    "# Time complexity O(n)\n",
    "\n",
    "nums_list=[10, 23, 45, 70, 11, 15]\n",
    "\n",
    "target = 70\n",
    "\n",
    "def linearSearch(alist,n):\n",
    "    i = 0\n",
    "    while i < len(alist):\n",
    "        if alist[i] == n:\n",
    "            return True\n",
    "        i = i + 1\n",
    "    return False\n",
    "\n",
    "\n",
    "print(linearSearch(nums_list,target))"
   ]
  }
 ],
 "metadata": {
  "kernelspec": {
   "display_name": "Python 3 (ipykernel)",
   "language": "python",
   "name": "python3"
  },
  "language_info": {
   "codemirror_mode": {
    "name": "ipython",
    "version": 3
   },
   "file_extension": ".py",
   "mimetype": "text/x-python",
   "name": "python",
   "nbconvert_exporter": "python",
   "pygments_lexer": "ipython3",
   "version": "3.11.5"
  }
 },
 "nbformat": 4,
 "nbformat_minor": 2
}
